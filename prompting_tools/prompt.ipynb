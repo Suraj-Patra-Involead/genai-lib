{
 "cells": [
  {
   "cell_type": "markdown",
   "id": "3e5293c2",
   "metadata": {},
   "source": [
    "1. Zero-Shot Prompting\n",
    "\n",
    "📌 Definition: Asking the model to perform a task with no examples given, only instructions."
   ]
  },
  {
   "cell_type": "code",
   "execution_count": 1,
   "id": "79183a1d",
   "metadata": {},
   "outputs": [
    {
     "name": "stdout",
     "output_type": "stream",
     "text": [
      "Zero-shot:   Mixed (a combination of positive and negative sentiments)\n"
     ]
    }
   ],
   "source": [
    "import ollama\n",
    "\n",
    "prompt = 'Classify the sentiment as Positive, Negative, or Mixed:\\n\"The food was amazing but the service was slow\"'\n",
    "\n",
    "response = ollama.chat(model=\"mistral:latest\",messages=[\n",
    "    {\"role\":\"user\",\"content\": f\"{prompt}\"}\n",
    "])\n",
    "\n",
    "print(\"Zero-shot: \",response['message']['content'])"
   ]
  },
  {
   "cell_type": "markdown",
   "id": "fd4ff984",
   "metadata": {},
   "source": [
    "2. Few-Shot Prompting\n",
    "\n",
    "📌 Definition: Provide a few examples before asking the real query."
   ]
  },
  {
   "cell_type": "code",
   "execution_count": 2,
   "id": "2c0cd5e4",
   "metadata": {},
   "outputs": [
    {
     "name": "stdout",
     "output_type": "stream",
     "text": [
      "Few-Shot:  The sentiment is Mixed, as there is a positive statement about the food and a negative one about the service.\n"
     ]
    }
   ],
   "source": [
    "import ollama\n",
    "\n",
    "prompt = \"\"\"Classify sentiment:\n",
    "\n",
    "Example 1: \"I love the weather today\" → Positive\n",
    "Example 2: \"I hate waiting in traffic\" → Negative\n",
    "Example 3: \"The movie was great but too long\" → Mixed\n",
    "\n",
    "Now classify:\n",
    "\"The food was amazing but the service was slow\"\n",
    "\"\"\"\n",
    "\n",
    "response = ollama.chat(model=\"mistral:latest\", messages=[\n",
    "  {\"role\": \"user\", \"content\": f\"{prompt}\"}\n",
    "])\n",
    "\n",
    "print(\"Few-Shot:\", response[\"message\"][\"content\"])\n"
   ]
  },
  {
   "cell_type": "markdown",
   "id": "0a7a9f15",
   "metadata": {},
   "source": [
    "3. Chain-of-Thought (CoT) Prompting\n",
    "\n",
    "📌 Definition: Ask the model to reason step by step before answering."
   ]
  },
  {
   "cell_type": "code",
   "execution_count": 3,
   "id": "ac2983cf",
   "metadata": {},
   "outputs": [
    {
     "name": "stdout",
     "output_type": "stream",
     "text": [
      "Chain-of-Thought:  The sentiment in this statement is Mixed because it praises the positive aspect of the food, but also expresses a negative sentiment about the slow service.\n"
     ]
    }
   ],
   "source": [
    "import ollama\n",
    "\n",
    "prompt = \"\"\"Classify the sentiment as Positive, Negative, or Mixed.\n",
    "Think step by step before answering:\n",
    "\"The food was amazing but the service was slow\"\n",
    "\"\"\"\n",
    "\n",
    "response = ollama.chat(model=\"mistral:latest\", messages=[\n",
    "  {\"role\": \"user\", \"content\": f\"{prompt}\"}\n",
    "])\n",
    "\n",
    "print(\"Chain-of-Thought:\", response[\"message\"][\"content\"])\n"
   ]
  },
  {
   "cell_type": "markdown",
   "id": "ff27bba2",
   "metadata": {},
   "source": [
    "4. Generated Knowledge Prompting\n",
    "\n",
    "📌 Definition: Ask model to recall/use background knowledge before solving."
   ]
  },
  {
   "cell_type": "code",
   "execution_count": 4,
   "id": "efde3a75",
   "metadata": {},
   "outputs": [
    {
     "name": "stdout",
     "output_type": "stream",
     "text": [
      "Generated Knowledge:  Typical customer reviews often include a mix of positive and negative aspects of their experience with a product or service. In the given review, the customer expresses a positive sentiment about the food, using the word \"amazing,\" which indicates satisfaction with that aspect. However, the customer also mentions a negative aspect: slow service. This suggests a mixed sentiment towards the overall dining experience. The review can be classified as having both positive and negative sentiments.\n",
      "\n",
      "In this case, it's essential to understand that even though the food was praised, the slow service may have affected the overall experience for the customer, impacting their likelihood of returning or recommending the establishment to others. Therefore, while the sentiment is mixed, the review still provides valuable feedback for the business to address the issue with the service and potentially improve customer satisfaction.\n"
     ]
    }
   ],
   "source": [
    "import ollama\n",
    "\n",
    "prompt = \"\"\"First, recall what typical customer reviews look like in terms of sentiment.\n",
    "Then classify this review:\n",
    "\"The food was amazing but the service was slow\"\n",
    "\"\"\"\n",
    "\n",
    "response = ollama.chat(model=\"mistral:latest\", messages=[\n",
    "  {\"role\": \"user\", \"content\": f\"{prompt}\"}\n",
    "])\n",
    "\n",
    "print(\"Generated Knowledge:\", response[\"message\"][\"content\"])"
   ]
  },
  {
   "cell_type": "markdown",
   "id": "c2e33b08",
   "metadata": {},
   "source": [
    "5. Least-to-Most Prompting\n",
    "\n",
    "📌 Definition: Break the problem into smaller sub-problems, solve from easy → hard."
   ]
  },
  {
   "cell_type": "code",
   "execution_count": 5,
   "id": "c3b0ee2a",
   "metadata": {},
   "outputs": [
    {
     "name": "stdout",
     "output_type": "stream",
     "text": [
      "Least-to-Most:  To break down this task, we can follow these steps:\n",
      "\n",
      "1. Identifying positive sentiment: The word \"amazing\" in the sentence indicates a positive sentiment towards the food.\n",
      "2. Identifying negative sentiment: The phrase \"the service was slow\" shows a negative sentiment towards the service provided.\n",
      "3. Classifying based on both sentiments: Since there is a positive sentiment about the food and a negative sentiment about the service, this can be classified as Mixed (Positive and Negative).\n"
     ]
    }
   ],
   "source": [
    "import ollama\n",
    "\n",
    "prompt = \"\"\"Break down the task:\n",
    "\n",
    "1. Identify positive sentiment in the sentence.\n",
    "2. Identify negative sentiment.\n",
    "3. Combine both to classify as Positive, Negative, or Mixed.\n",
    "\n",
    "Sentence: \"The food was amazing but the service was slow\"\n",
    "\"\"\"\n",
    "\n",
    "response = ollama.chat(model=\"mistral:latest\", messages=[\n",
    "  {\"role\": \"user\", \"content\": f\"{prompt}\"}\n",
    "])\n",
    "\n",
    "print(\"Least-to-Most:\", response[\"message\"][\"content\"])\n"
   ]
  },
  {
   "cell_type": "markdown",
   "id": "1a12b6f8",
   "metadata": {},
   "source": [
    "6. Self-Refine Prompting\n",
    "\n",
    "📌 Definition: Model first answers, then critiques and refines its own output."
   ]
  },
  {
   "cell_type": "code",
   "execution_count": 6,
   "id": "2afae2c3",
   "metadata": {},
   "outputs": [
    {
     "name": "stdout",
     "output_type": "stream",
     "text": [
      "Self-Refine:  Initially, my response might classify the sentiment of the given sentence as somewhat negative due to the mention of slow service. However, upon closer examination, the overall sentiment can be considered mixed. The phrase \"The food was amazing\" implies a positive experience, while \"but the service was slow\" suggests a slight disappointment. Therefore, the refined answer would be: The sentiment in this sentence is mixed, with positive aspects related to the food and negative aspects associated with the service.\n",
      "\n",
      "I hope this revised response provides a clearer understanding of the sentiments expressed in the given statement!\n"
     ]
    }
   ],
   "source": [
    "import ollama\n",
    "\n",
    "prompt = \"\"\"Classify the sentiment of this sentence:\n",
    "\"The food was amazing but the service was slow\"\n",
    "\n",
    "Now check if your answer could be improved, and refine it.\n",
    "\"\"\"\n",
    "\n",
    "response = ollama.chat(model=\"mistral:latest\", messages=[\n",
    "  {\"role\": \"user\", \"content\": f\"{prompt}\"}\n",
    "])\n",
    "\n",
    "print(\"Self-Refine:\", response[\"message\"][\"content\"])\n"
   ]
  },
  {
   "cell_type": "markdown",
   "id": "1df40f5b",
   "metadata": {},
   "source": [
    "7. Maieutic Prompting\n",
    "\n",
    "📌 Definition: Like Socratic reasoning → generate multiple reasoning paths, then reconcile."
   ]
  },
  {
   "cell_type": "code",
   "execution_count": 7,
   "id": "e4e731bf",
   "metadata": {},
   "outputs": [
    {
     "name": "stdout",
     "output_type": "stream",
     "text": [
      "Maieutic:  In this sentence, the overall sentiment seems to be mixed due to the contrasting opinions about the food and service.\n",
      "\n",
      "1. The adjective \"amazing\" is used to describe the food, which indicates a positive sentiment towards it.\n",
      "2. However, the phrase \"the service was slow\" suggests a negative sentiment towards the service.\n",
      "3. Since there's a contrast between the positive sentiment about the food and the negative sentiment about the service, the overall sentiment can be classified as mixed or neutral-leaning slightly positive because the positive aspect of the food overpowers the negative aspect of the slow service in this context.\n"
     ]
    }
   ],
   "source": [
    "import ollama\n",
    "\n",
    "prompt = \"\"\"Classify the sentiment using multiple reasoning paths.\n",
    "\n",
    "Sentence: \"The food was amazing but the service was slow\"\n",
    "\"\"\"\n",
    "\n",
    "response = ollama.chat(model=\"mistral:latest\", messages=[\n",
    "  {\"role\": \"user\", \"content\": f\"{prompt}\"}\n",
    "])\n",
    "\n",
    "print(\"Maieutic:\", response[\"message\"][\"content\"])"
   ]
  }
 ],
 "metadata": {
  "kernelspec": {
   "display_name": "venv",
   "language": "python",
   "name": "python3"
  },
  "language_info": {
   "codemirror_mode": {
    "name": "ipython",
    "version": 3
   },
   "file_extension": ".py",
   "mimetype": "text/x-python",
   "name": "python",
   "nbconvert_exporter": "python",
   "pygments_lexer": "ipython3",
   "version": "3.13.5"
  }
 },
 "nbformat": 4,
 "nbformat_minor": 5
}
